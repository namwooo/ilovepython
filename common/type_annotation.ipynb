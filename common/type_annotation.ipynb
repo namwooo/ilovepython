{
 "metadata": {
  "language_info": {
   "codemirror_mode": {
    "name": "ipython",
    "version": 3
   },
   "file_extension": ".py",
   "mimetype": "text/x-python",
   "name": "python",
   "nbconvert_exporter": "python",
   "pygments_lexer": "ipython3",
   "version": 3
  },
  "orig_nbformat": 2
 },
 "nbformat": 4,
 "nbformat_minor": 2,
 "cells": [
  {
   "source": [
    "# Type Annotation / Hinting\n",
    "https://www.python.org/dev/peps/pep-0483/\n",
    "https://www.python.org/dev/peps/pep-0484/"
   ],
   "cell_type": "markdown",
   "metadata": {}
  },
  {
   "cell_type": "code",
   "execution_count": null,
   "metadata": {},
   "outputs": [],
   "source": [
    "If you agree with docstring for each object is necessary and wise approach to collaborate with team members, do not bother to implement type annotation. As the authors of PEP-484 says \"Python will remain a dynamically typed language, and the authors have no desire to ever make type hints mandatory, even by convention.\"."
   ]
  }
 ]
}