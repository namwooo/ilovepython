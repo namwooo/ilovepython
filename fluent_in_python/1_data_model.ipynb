{
 "metadata": {
  "language_info": {
   "codemirror_mode": {
    "name": "ipython",
    "version": 3
   },
   "file_extension": ".py",
   "mimetype": "text/x-python",
   "name": "python",
   "nbconvert_exporter": "python",
   "pygments_lexer": "ipython3",
   "version": "3.7.0-final"
  },
  "orig_nbformat": 2,
  "kernelspec": {
   "name": "python3",
   "display_name": "Python 3",
   "language": "python"
  }
 },
 "nbformat": 4,
 "nbformat_minor": 2,
 "cells": [
  {
   "source": [
    "포커 카드(french deck)을 파이썬 데이터 모델로 표현한다. 먼저 모델로 표현할 정보와 기능을 생각한다.<br> \n",
    "- 개별 카드는 2~10 범위의 랭크(rank)와 스페이드, 다이아몬드, 클럽, 하트 모양을 속성으로 갖는다.\n",
    "- 카드 모음의 길이와 인덱싱을 속성 갖는다."
   ],
   "cell_type": "markdown",
   "metadata": {}
  },
  {
   "cell_type": "code",
   "execution_count": 18,
   "metadata": {},
   "outputs": [
    {
     "output_type": "stream",
     "name": "stdout",
     "text": [
      "52\nCard(rank='2', suit='spades')\n"
     ]
    }
   ],
   "source": [
    "# Example 1-1. A deck as a sequence of playing cards\n",
    "import collections\n",
    "\n",
    "Card = collections.namedtuple('Card', ['rank', 'suit'])\n",
    "\n",
    "class FrenchDeck(object):\n",
    "    ranks = [str(n) for n in range(2, 11)] + list('JQKA')\n",
    "    suits = 'spades diamonds clubs hearts'.split()\n",
    "\n",
    "    def __init__(self):\n",
    "        self._cards = [Card(rank, suit) for suit in self.suits for rank in self.ranks]\n",
    "    \n",
    "    def __len__(self):\n",
    "        return len(self._cards)\n",
    "\n",
    "    def __getitem__(self, position):\n",
    "        return self._cards[position]\n",
    "\n",
    "\n",
    "deck = FrenchDeck()\n",
    "print(len(deck))\n",
    "print(deck[0])"
   ]
  },
  {
   "source": [
    "개별 카드는 namedtuple로 구현한 Card로 표현했다. namedtuple은 별도로 커스텀한 메소드를 필요 없고 오직 속성들만을 가진 클래스 객체를 생성한다. 마치 데이터 베이스 처럼.<br>\n",
    "카드 모음은 FrecnhDeck 클래스로 표현한다. FrenchDeck 클래스는 가능한 랭크와 모양을 클래스 속성으로 갖는다. FrenchDeck 인스턴스가 생성 될 떄 Card의 리스트를 내부 속성으로 할당한다. 당연하게도 카드 모음의 길이와 개별 카드가 카드 모음에서 개별 카드에 접근 할 수 있어야 하므로, __len__와 __getitem__ 매직 메소드를 FrenchDeck에 구현한다.<br>\n",
    "__len__는 len() 연산자를 사용할 때 호출 되며, __getitem__은 deck[0]d와 같이 [] 연산을 할 때 호출된다."
   ],
   "cell_type": "markdown",
   "metadata": {}
  },
  {
   "source": [
    "카드 모음에서 랜덤으로 카드 한장을 뽑는 기능을 추가하고 싶다면 새로운 메소드를 추가해야 할까? 아니다. 파이썬 내장 함수로 random.choice가 있어 시퀀스에서 랜덤한 아이템을 가져올 수 있다."
   ],
   "cell_type": "markdown",
   "metadata": {}
  },
  {
   "cell_type": "code",
   "execution_count": 9,
   "metadata": {},
   "outputs": [
    {
     "output_type": "stream",
     "name": "stdout",
     "text": [
      "Card(rank='4', suit='hearts')\nCard(rank='J', suit='clubs')\n"
     ]
    }
   ],
   "source": [
    "from random import choice\n",
    "\n",
    "deck = FrenchDeck()\n",
    "print(choice(deck))\n",
    "print(choice(deck))"
   ]
  },
  {
   "source": [
    "__getitem__이 self._cards에 대한 [] 연산자를 지원하기에 슬라이싱을 사용할 수 있다. 랭크가 Ace인 카드만을 가져오고 싶으면 12 인덱스에서 13씩 건너뛰는 슬라이싱을 하면 된다."
   ],
   "cell_type": "markdown",
   "metadata": {}
  },
  {
   "cell_type": "code",
   "execution_count": 13,
   "metadata": {},
   "outputs": [
    {
     "output_type": "execute_result",
     "data": {
      "text/plain": [
       "[Card(rank='A', suit='spades'),\n",
       " Card(rank='A', suit='diamods'),\n",
       " Card(rank='A', suit='clubs'),\n",
       " Card(rank='A', suit='hearts')]"
      ]
     },
     "metadata": {},
     "execution_count": 13
    }
   ],
   "source": [
    "deck[12::13]"
   ]
  },
  {
   "source": [
    "또한 __getitem__을 구현했기에 deck은 이터러블이다."
   ],
   "cell_type": "markdown",
   "metadata": {}
  },
  {
   "cell_type": "code",
   "execution_count": 14,
   "metadata": {},
   "outputs": [
    {
     "output_type": "stream",
     "name": "stdout",
     "text": [
      "Card(rank='2', suit='spades')\nCard(rank='3', suit='spades')\nCard(rank='4', suit='spades')\nCard(rank='5', suit='spades')\nCard(rank='6', suit='spades')\nCard(rank='7', suit='spades')\nCard(rank='8', suit='spades')\nCard(rank='9', suit='spades')\nCard(rank='10', suit='spades')\nCard(rank='J', suit='spades')\nCard(rank='Q', suit='spades')\nCard(rank='K', suit='spades')\nCard(rank='A', suit='spades')\nCard(rank='2', suit='diamods')\nCard(rank='3', suit='diamods')\nCard(rank='4', suit='diamods')\nCard(rank='5', suit='diamods')\nCard(rank='6', suit='diamods')\nCard(rank='7', suit='diamods')\nCard(rank='8', suit='diamods')\nCard(rank='9', suit='diamods')\nCard(rank='10', suit='diamods')\nCard(rank='J', suit='diamods')\nCard(rank='Q', suit='diamods')\nCard(rank='K', suit='diamods')\nCard(rank='A', suit='diamods')\nCard(rank='2', suit='clubs')\nCard(rank='3', suit='clubs')\nCard(rank='4', suit='clubs')\nCard(rank='5', suit='clubs')\nCard(rank='6', suit='clubs')\nCard(rank='7', suit='clubs')\nCard(rank='8', suit='clubs')\nCard(rank='9', suit='clubs')\nCard(rank='10', suit='clubs')\nCard(rank='J', suit='clubs')\nCard(rank='Q', suit='clubs')\nCard(rank='K', suit='clubs')\nCard(rank='A', suit='clubs')\nCard(rank='2', suit='hearts')\nCard(rank='3', suit='hearts')\nCard(rank='4', suit='hearts')\nCard(rank='5', suit='hearts')\nCard(rank='6', suit='hearts')\nCard(rank='7', suit='hearts')\nCard(rank='8', suit='hearts')\nCard(rank='9', suit='hearts')\nCard(rank='10', suit='hearts')\nCard(rank='J', suit='hearts')\nCard(rank='Q', suit='hearts')\nCard(rank='K', suit='hearts')\nCard(rank='A', suit='hearts')\n"
     ]
    }
   ],
   "source": [
    "for card in deck:\n",
    "    print(card)"
   ]
  },
  {
   "source": [
    "deck은 역순환 할 수도 있다."
   ],
   "cell_type": "markdown",
   "metadata": {}
  },
  {
   "cell_type": "code",
   "execution_count": 15,
   "metadata": {},
   "outputs": [
    {
     "output_type": "stream",
     "name": "stdout",
     "text": [
      "Card(rank='A', suit='hearts')\nCard(rank='K', suit='hearts')\nCard(rank='Q', suit='hearts')\nCard(rank='J', suit='hearts')\nCard(rank='10', suit='hearts')\nCard(rank='9', suit='hearts')\nCard(rank='8', suit='hearts')\nCard(rank='7', suit='hearts')\nCard(rank='6', suit='hearts')\nCard(rank='5', suit='hearts')\nCard(rank='4', suit='hearts')\nCard(rank='3', suit='hearts')\nCard(rank='2', suit='hearts')\nCard(rank='A', suit='clubs')\nCard(rank='K', suit='clubs')\nCard(rank='Q', suit='clubs')\nCard(rank='J', suit='clubs')\nCard(rank='10', suit='clubs')\nCard(rank='9', suit='clubs')\nCard(rank='8', suit='clubs')\nCard(rank='7', suit='clubs')\nCard(rank='6', suit='clubs')\nCard(rank='5', suit='clubs')\nCard(rank='4', suit='clubs')\nCard(rank='3', suit='clubs')\nCard(rank='2', suit='clubs')\nCard(rank='A', suit='diamods')\nCard(rank='K', suit='diamods')\nCard(rank='Q', suit='diamods')\nCard(rank='J', suit='diamods')\nCard(rank='10', suit='diamods')\nCard(rank='9', suit='diamods')\nCard(rank='8', suit='diamods')\nCard(rank='7', suit='diamods')\nCard(rank='6', suit='diamods')\nCard(rank='5', suit='diamods')\nCard(rank='4', suit='diamods')\nCard(rank='3', suit='diamods')\nCard(rank='2', suit='diamods')\nCard(rank='A', suit='spades')\nCard(rank='K', suit='spades')\nCard(rank='Q', suit='spades')\nCard(rank='J', suit='spades')\nCard(rank='10', suit='spades')\nCard(rank='9', suit='spades')\nCard(rank='8', suit='spades')\nCard(rank='7', suit='spades')\nCard(rank='6', suit='spades')\nCard(rank='5', suit='spades')\nCard(rank='4', suit='spades')\nCard(rank='3', suit='spades')\nCard(rank='2', suit='spades')\n"
     ]
    }
   ],
   "source": [
    "for card in reversed(deck):\n",
    "    print(card)"
   ]
  },
  {
   "source": [
    "만약 컬렉션이 __contains__ 메소드를 구현하지 않았다면, in 연산자는 전체 시퀀스를 순환하여 검사한다."
   ],
   "cell_type": "markdown",
   "metadata": {}
  },
  {
   "cell_type": "code",
   "execution_count": 16,
   "metadata": {},
   "outputs": [
    {
     "output_type": "execute_result",
     "data": {
      "text/plain": [
       "True"
      ]
     },
     "metadata": {},
     "execution_count": 16
    }
   ],
   "source": [
    "Card('Q', 'hearts') in deck"
   ]
  },
  {
   "source": [
    "FrenchDeck은 카드의 랭킹과 모양에 따라 각자 점수가 있다. 이 점수를 기준으로 어떻게 정렬 할 수 있을까? 알다시피 랭크는 2에서 A순으로 높으며 모양은 clubs diamonds hearts spades 순으로 높다.                             "
   ],
   "cell_type": "markdown",
   "metadata": {}
  },
  {
   "cell_type": "code",
   "execution_count": 20,
   "metadata": {},
   "outputs": [
    {
     "output_type": "stream",
     "name": "stdout",
     "text": [
      "Card(rank='2', suit='clubs')\nCard(rank='2', suit='diamonds')\nCard(rank='2', suit='hearts')\nCard(rank='2', suit='spades')\nCard(rank='3', suit='clubs')\nCard(rank='3', suit='diamonds')\nCard(rank='3', suit='hearts')\nCard(rank='3', suit='spades')\nCard(rank='4', suit='clubs')\nCard(rank='4', suit='diamonds')\nCard(rank='4', suit='hearts')\nCard(rank='4', suit='spades')\nCard(rank='5', suit='clubs')\nCard(rank='5', suit='diamonds')\nCard(rank='5', suit='hearts')\nCard(rank='5', suit='spades')\nCard(rank='6', suit='clubs')\nCard(rank='6', suit='diamonds')\nCard(rank='6', suit='hearts')\nCard(rank='6', suit='spades')\nCard(rank='7', suit='clubs')\nCard(rank='7', suit='diamonds')\nCard(rank='7', suit='hearts')\nCard(rank='7', suit='spades')\nCard(rank='8', suit='clubs')\nCard(rank='8', suit='diamonds')\nCard(rank='8', suit='hearts')\nCard(rank='8', suit='spades')\nCard(rank='9', suit='clubs')\nCard(rank='9', suit='diamonds')\nCard(rank='9', suit='hearts')\nCard(rank='9', suit='spades')\nCard(rank='10', suit='clubs')\nCard(rank='10', suit='diamonds')\nCard(rank='10', suit='hearts')\nCard(rank='10', suit='spades')\nCard(rank='J', suit='clubs')\nCard(rank='J', suit='diamonds')\nCard(rank='J', suit='hearts')\nCard(rank='J', suit='spades')\nCard(rank='Q', suit='clubs')\nCard(rank='Q', suit='diamonds')\nCard(rank='Q', suit='hearts')\nCard(rank='Q', suit='spades')\nCard(rank='K', suit='clubs')\nCard(rank='K', suit='diamonds')\nCard(rank='K', suit='hearts')\nCard(rank='K', suit='spades')\nCard(rank='A', suit='clubs')\nCard(rank='A', suit='diamonds')\nCard(rank='A', suit='hearts')\nCard(rank='A', suit='spades')\n"
     ]
    }
   ],
   "source": [
    "suit_values = dict(spades=3, hearts=2, diamonds=1, clubs=0)\n",
    "\n",
    "def spades_high(card):\n",
    "    rank_value = FrenchDeck.ranks.index(card.rank)\n",
    "    return rank_value * len(suit_values) + suit_values[card.suit]\n",
    "\n",
    "for card in sorted(deck, key=spades_high):\n",
    "    print(card)"
   ]
  },
  {
   "source": [
    "정리하면 FrenchDeck 객체에 __len__와 __getitem__을 구현하여 표준 파이썬 시퀀스 같이 동작하도록 만들었다. 순환과 슬라이싱, 랜덤 함수, 정렬 등 표준 라이브러리를 사용할 수도 있었다. 컴포지션, 한 클래스의 기능을 다른 클래스의 기능으로 넘기는 개념, 을 활용하여 __len__와 __getitem__구현으로 모든 역할을 list 객체인 self._cards에 위임하였다."
   ],
   "cell_type": "markdown",
   "metadata": {}
  },
  {
   "source": [
    "## 매직 메소드 호출\n",
    "매직 메소드는 파이썬 인터프리터에 의해 호출 된다는 걸 알고 있어야 한다. object.__len__()가 아니라 len(object)로 코딩하고 만약 object가 유저 커스텀한 객체라면 파이썬 인터프리터가 __len__ 매직 메소드를 호출 해준다.\n",
    "만약 객체가 유저 커스텀 객체가 아니라 list, str, bytearray 같은 빌트인 객체라면 C 구현체인 PyVarObejct의 ob_size 필드를 반환한다. __len__ 메소드를 호출하는 것보다 이 편이 더 빠르기 떄문이다."
   ],
   "cell_type": "markdown",
   "metadata": {}
  },
  {
   "source": [
    "### Numeric 타입 모방\n",
    "\\+ 같은 연산자와 대응 되는 매직 메소드를 유저 커스텀 객체에 사용할 수 도 있다. 또한, 벡터의 절대 크기를 반환하는 abs 빌트인 힘수와 호환되게 Vector 클래스를 만들 수 도 있다."
   ],
   "cell_type": "markdown",
   "metadata": {}
  },
  {
   "cell_type": "code",
   "execution_count": 14,
   "metadata": {},
   "outputs": [],
   "source": [
    "import math\n",
    "\n",
    "class Vector:\n",
    "    def __init__(self, x=0, y=0):\n",
    "        self.x = x\n",
    "        self.y = y\n",
    "    \n",
    "    def __repr__(self):\n",
    "        return f'Vector({self.x!s}, {self.y!s})'\n",
    "    \n",
    "    def __abs__(self):\n",
    "        return math.hypot(self.x, self.y)\n",
    "\n",
    "    def __bool__(self):\n",
    "        return bool(abs(self))\n",
    "\n",
    "    def __add__(self, other):\n",
    "        x = self.x + other.x\n",
    "        y = self.y + other.y\n",
    "        return Vector(x, y)\n",
    "    \n",
    "    def __mul__(self, scalar):\n",
    "        return Vector(self.x * scalar, self.y * scalar)"
   ]
  },
  {
   "cell_type": "code",
   "execution_count": 16,
   "metadata": {},
   "outputs": [
    {
     "output_type": "stream",
     "name": "stdout",
     "text": [
      "6.4031242374328485\n"
     ]
    }
   ],
   "source": [
    "v1 = Vector(2, 4)\n",
    "v2 = Vector(2, 1)\n",
    "v3 = v1 + v2\n",
    "print(abs(v3))"
   ]
  },
  {
   "source": [
    "위 Vector 클래스에서 6개의 매직 메소드를 구현했다. 6개 모두 클래스나 인스턴스에 의해 직접 호출되지 않는다."
   ],
   "cell_type": "markdown",
   "metadata": {}
  },
  {
   "source": [
    "### 문자열 표현\n",
    "객체에 대한 문자열 표현을 반환하는 repr 빌트인 함수는 내부적으로 __repr__ 매직 메소드를 호출한다. 객체에 __repr__를 구현하지 않았다면 <Vector object at 0x10e100070>같은 표현을 반환한다. at은 해당 인스턴스가 존재하는 메모리 공간 참조를 가르킨다.\n",
    "\n",
    "- !r: f-strings 표현에서 !r은 해당 값에 대해 __repr__를 호출한다.\n",
    "- !s: !s는 __str__을 호출한다."
   ],
   "cell_type": "markdown",
   "metadata": {}
  }
 ]
}