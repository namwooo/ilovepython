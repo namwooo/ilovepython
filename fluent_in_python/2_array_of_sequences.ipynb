{
 "metadata": {
  "language_info": {
   "codemirror_mode": {
    "name": "ipython",
    "version": 3
   },
   "file_extension": ".py",
   "mimetype": "text/x-python",
   "name": "python",
   "nbconvert_exporter": "python",
   "pygments_lexer": "ipython3",
   "version": 3
  },
  "orig_nbformat": 2
 },
 "nbformat": 4,
 "nbformat_minor": 2,
 "cells": [
  {
   "source": [
    "## Python Built-In Sequences\n",
    "Container sequences: It can hold items of different types, including nested containers.\n",
    "- list \n",
    "- tuple\n",
    "- deque\n",
    "\n",
    "Flat sequences: It hold items of one simple type.\n",
    "- str\n",
    "- bytes\n",
    "- bytearray\n",
    "- memoryview\n",
    "- array\n",
    "\n",
    "  \n"
   ],
   "cell_type": "markdown",
   "metadata": {}
  },
  {
   "cell_type": "code",
   "execution_count": null,
   "metadata": {},
   "outputs": [],
   "source": []
  }
 ]
}