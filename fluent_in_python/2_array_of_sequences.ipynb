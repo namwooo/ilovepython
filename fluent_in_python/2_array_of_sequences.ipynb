{
 "metadata": {
  "language_info": {
   "codemirror_mode": {
    "name": "ipython",
    "version": 3
   },
   "file_extension": ".py",
   "mimetype": "text/x-python",
   "name": "python",
   "nbconvert_exporter": "python",
   "pygments_lexer": "ipython3",
   "version": "3.7.0-final"
  },
  "orig_nbformat": 2,
  "kernelspec": {
   "name": "python3",
   "display_name": "Python 3.7.0 64-bit ('3.7.0')",
   "metadata": {
    "interpreter": {
     "hash": "90062b0b41c6fc6ac19a1d0d90c409aec955535cd862cb6d1bf6d52082b2db2c"
    }
   }
  }
 },
 "nbformat": 4,
 "nbformat_minor": 2,
 "cells": [
  {
   "source": [
    "## Python Built-In Sequences\n",
    "Python built-in sequence types can be grouped by ability to hold different types of data.\n",
    "\n",
    "Container sequences: It can hold items of different types, including nested containers.\n",
    "- list, tuple, deque\n",
    "\n",
    "Flat sequences: It hold items of one simple type.\n",
    "- str, bytes, bytearray, memoryview, array\n",
    "\n",
    "A container sequence holds references to the objects it contains, which may be of any type. While a flat sequence stores the value of its contents in its own memory space, not as objects. Thus, Flat sequence are more compact, but they are limited to holding primitive machine values like bytes, integers, and floats.\n",
    "\n",
    "Another way of grouping sequence types is by mutability: \n",
    "\n",
    "Mutable sequences: Contents of mutable sequence can change in any time.\n",
    "- list, bytearray, array.array, collections.deque, and memoryview\n",
    "\n",
    "Immutable sequences: Once it is created, its contents never change.\n",
    "- tuple, str, and bytes\n",
    "\n",
    "This image helps visualize how mutable sequences inherit all methods from immutable sequences, and implement several additional methods.\n",
    "<img src=\"https://learning.oreilly.com/library/view/fluent-python-2nd/9781492056348/assets/MutableSeqV36.png\"> "
   ],
   "cell_type": "markdown",
   "metadata": {}
  },
  {
   "cell_type": "code",
   "execution_count": null,
   "metadata": {},
   "outputs": [],
   "source": []
  }
 ]
}