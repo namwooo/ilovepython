{
 "metadata": {
  "language_info": {
   "codemirror_mode": {
    "name": "ipython",
    "version": 3
   },
   "file_extension": ".py",
   "mimetype": "text/x-python",
   "name": "python",
   "nbconvert_exporter": "python",
   "pygments_lexer": "ipython3",
   "version": "3.7.0-final"
  },
  "orig_nbformat": 2,
  "kernelspec": {
   "name": "python3",
   "display_name": "Python 3.7.0 64-bit ('3.7.0')",
   "metadata": {
    "interpreter": {
     "hash": "90062b0b41c6fc6ac19a1d0d90c409aec955535cd862cb6d1bf6d52082b2db2c"
    }
   }
  }
 },
 "nbformat": 4,
 "nbformat_minor": 2,
 "cells": [
  {
   "source": [
    "## Python Built-In Sequences\n",
    "Python built-in sequence types can be grouped by ability to hold different types of data.\n",
    "\n",
    "Container sequences: It can hold items of different types, including nested containers.\n",
    "- list, tuple, deque\n",
    "\n",
    "Flat sequences: It hold items of one simple type.\n",
    "- str, bytes, bytearray, memoryview, array\n",
    "\n",
    "A container sequence holds references to the objects it contains, which may be of any type. While a flat sequence stores the value of its contents in its own memory space, not as objects. Thus, Flat sequence are more compact, but they are limited to holding primitive machine values like bytes, integers, and floats.\n",
    "\n",
    "Another way of grouping sequence types is by mutability: \n",
    "\n",
    "Mutable sequences: Contents of mutable sequence can change in any time.\n",
    "- list, bytearray, array.array, collections.deque, and memoryview\n",
    "\n",
    "Immutable sequences: Once it is created, its contents can't be changed.\n",
    "- tuple, str, and bytes\n",
    "\n",
    "This image helps visualize how mutable sequences inherit all methods from immutable sequences, and implement several additional methods.\n",
    "<img src=\"https://learning.oreilly.com/library/view/fluent-python-2nd/9781492056348/assets/MutableSeqV36.png\"> "
   ],
   "cell_type": "markdown",
   "metadata": {}
  },
  {
   "source": [
    "## List Comprehensions and Generator Expressions\n",
    "Listcomps do everything the map and filter function do."
   ],
   "cell_type": "markdown",
   "metadata": {}
  },
  {
   "cell_type": "code",
   "execution_count": 4,
   "metadata": {},
   "outputs": [
    {
     "output_type": "stream",
     "name": "stdout",
     "text": [
      "[162, 163, 165, 8364, 164]\n[162, 163, 165, 8364, 164]\n"
     ]
    }
   ],
   "source": [
    "symbols = '$¢£¥€¤'\n",
    "beyond_ascii = [ord(s) for s in symbols if ord(s) > 127]\n",
    "print(beyond_ascii)\n",
    "beyond_ascii = list(filter(lambda c: c > 127, map(ord, symbols)))\n",
    "print(beyond_ascii)"
   ]
  },
  {
   "source": [
    "Listcomps can build lists from the Cartesian product of two or more iterables."
   ],
   "cell_type": "markdown",
   "metadata": {}
  },
  {
   "cell_type": "code",
   "execution_count": 10,
   "metadata": {},
   "outputs": [
    {
     "output_type": "stream",
     "name": "stdout",
     "text": [
      "[('black', 'S'), ('white', 'S'), ('black', 'M'), ('white', 'M'), ('black', 'L'), ('white', 'L')]\n[('black', 'S'), ('black', 'M'), ('black', 'L'), ('white', 'S'), ('white', 'M'), ('white', 'L')]\n"
     ]
    }
   ],
   "source": [
    "colors = ['black', 'white']\n",
    "sizes = ['S', 'M', 'L']\n",
    "\n",
    "tshirts = [(color, size) for size in sizes for color in colors]\n",
    "print(tshirts)\n",
    "tshirts = [(color, size) for color in colors for size in sizes]\n",
    "print(tshirts)\n"
   ]
  },
  {
   "source": [
    "To initialzie tuples, arrays, and other types of sequences, use genexp. It yields items one by one using iterator protocol to save memory instead of buling a whole list."
   ],
   "cell_type": "markdown",
   "metadata": {}
  },
  {
   "cell_type": "code",
   "execution_count": 12,
   "metadata": {},
   "outputs": [
    {
     "output_type": "stream",
     "name": "stdout",
     "text": [
      "(36, 162, 163, 165, 8364, 164)\narray('I', [36, 162, 163, 165, 8364, 164])\n"
     ]
    }
   ],
   "source": [
    "symbols = '$¢£¥€¤'\n",
    "tup = tuple(ord(symbol) for symbol in symbols)\n",
    "print(tup)\n",
    "\n",
    "import array\n",
    "arr = array.array('I', (ord(s) for s in symbols))\n",
    "print(arr)"
   ]
  },
  {
   "source": [
    "Below example demonstrate how I can unilize generator expression to feed the for loop producing one item at a time."
   ],
   "cell_type": "markdown",
   "metadata": {}
  },
  {
   "cell_type": "code",
   "execution_count": 13,
   "metadata": {},
   "outputs": [
    {
     "output_type": "stream",
     "name": "stdout",
     "text": [
      "black S\nblack M\nblack L\nwhite S\nwhite M\nwhite L\n"
     ]
    }
   ],
   "source": [
    "colors = ['black', 'white']\n",
    "sizes = ['S', 'M', 'L']\n",
    "for tshirt in ('%s %s' % (c, s) for c in colors for s in sizes):\n",
    "    print(tshirt)"
   ]
  },
  {
   "source": [
    "## Tuple Are Not Just Immutable List\n",
    "Tuple have two duty; they can be used as immutable lists and as records with no field names.\n",
    "\n",
    "Tuples hold records. Each item in the tuple holds the data for one field and the position of the item gives its meaning. It is a collection of fields, the number of item is usually fixed and their order matters."
   ],
   "cell_type": "markdown",
   "metadata": {}
  },
  {
   "source": [
    "Unpacking allows me to assign each item in tuple to a variable in a single statement."
   ],
   "cell_type": "markdown",
   "metadata": {}
  },
  {
   "cell_type": "code",
   "execution_count": 3,
   "metadata": {},
   "outputs": [],
   "source": [
    "city, year, pop, chg, area = ('Tokyo', 2003, 32_450, 0.66, 8014)"
   ]
  },
  {
   "source": [
    "The % operator also assign each item in tuple to one slot in the format string."
   ],
   "cell_type": "markdown",
   "metadata": {}
  },
  {
   "cell_type": "code",
   "execution_count": 4,
   "metadata": {},
   "outputs": [
    {
     "output_type": "stream",
     "name": "stdout",
     "text": [
      "KOR/384931\n"
     ]
    }
   ],
   "source": [
    "traveler_ids = ('KOR', '384931')\n",
    "print('%s/%s' % traveler_ids)"
   ]
  },
  {
   "source": [
    "The most visible form of unpacking is parallel assignment; that is, assigning items from an iterable to a tuple of variables."
   ],
   "cell_type": "markdown",
   "metadata": {}
  },
  {
   "cell_type": "code",
   "execution_count": 6,
   "metadata": {},
   "outputs": [],
   "source": [
    "coordinates = (33.94, -118.408)\n",
    "latitude, longitude = coordinates"
   ]
  },
  {
   "source": [
    "An elegant application of tuple unpacking is swapping the values of variables without using a temporary variable"
   ],
   "cell_type": "markdown",
   "metadata": {}
  },
  {
   "cell_type": "code",
   "execution_count": 12,
   "metadata": {},
   "outputs": [
    {
     "output_type": "stream",
     "name": "stdout",
     "text": [
      "2\n1\n"
     ]
    }
   ],
   "source": [
    "a, b = 1, 2\n",
    "b, a = a, b\n",
    "print(a)\n",
    "print(b)"
   ]
  },
  {
   "source": [
    "Another example of unpacking is prefixing an argument with a star when calling a function"
   ],
   "cell_type": "markdown",
   "metadata": {}
  },
  {
   "cell_type": "code",
   "execution_count": 13,
   "metadata": {},
   "outputs": [
    {
     "output_type": "execute_result",
     "data": {
      "text/plain": [
       "(2, 4)"
      ]
     },
     "metadata": {},
     "execution_count": 13
    }
   ],
   "source": [
    "t = (20, 8)\n",
    "divmod(*t)"
   ]
  },
  {
   "source": [
    "Defining function parameters with *args to grab arbitrary excess arguments is a classic Python feature.\n",
    "\n",
    "In Python 3, this idea was extended to apply to parallel assignment as well"
   ],
   "cell_type": "markdown",
   "metadata": {}
  },
  {
   "cell_type": "code",
   "execution_count": 17,
   "metadata": {},
   "outputs": [
    {
     "output_type": "stream",
     "name": "stdout",
     "text": [
      "0 1 [2, 3, 4]\n0 1 []\n"
     ]
    }
   ],
   "source": [
    "a, b, *rest = range(5)\n",
    "print(a, b, rest)\n",
    "a, b, *rest = range(2)\n",
    "print(a, b, rest)"
   ]
  },
  {
   "source": [
    "In the context of parallel assignment, the * prefix can be applied to exactly one variable, but it can appear in any position"
   ],
   "cell_type": "markdown",
   "metadata": {}
  },
  {
   "cell_type": "code",
   "execution_count": 18,
   "metadata": {},
   "outputs": [
    {
     "output_type": "stream",
     "name": "stdout",
     "text": [
      "0 [1, 2] 3 4\n"
     ]
    }
   ],
   "source": [
    "a, *body, c, d = range(5)\n",
    "print(a, body, c, d)"
   ]
  },
  {
   "source": [
    "The tuple to receive an expression to unpack can have nested tuples, like (a, b, (c, d))"
   ],
   "cell_type": "markdown",
   "metadata": {}
  },
  {
   "cell_type": "code",
   "execution_count": 45,
   "metadata": {},
   "outputs": [
    {
     "output_type": "stream",
     "name": "stdout",
     "text": [
      "                |   lat.    |   long.  \nMexico City     |  19.4333  |  -99.1333\nNew York-Newark |  40.8086  |  -74.0204\nSao Paulo       | -23.5478  |  -46.6358\n"
     ]
    }
   ],
   "source": [
    "metro_areas = [\n",
    "    ('Tokyo', 'JP', 36.933, (35.689722, 139.691667)),\n",
    "    ('Delhi NCR', 'IN', 21.935, (28.613889, 77.208889)),\n",
    "    ('Mexico City', 'MX', 20.142, (19.433333, -99.133333)),\n",
    "    ('New York-Newark', 'US', 20.104, (40.808611, -74.020386)),\n",
    "    ('Sao Paulo', 'BR', 19.649, (-23.547778, -46.635833)),\n",
    "]\n",
    "\n",
    "print(f'{\"\":15s} | {\"lat.\":^9} | {\"long.\":^9}')\n",
    "for name, cc, pop, (latitude, longitude) in metro_areas:\n",
    "    if longitude <=0:\n",
    "        print(f'{name:15} | {latitude:9.4f} | {longitude:9.4f}')\n",
    "\n",
    "# f-string formatting\n",
    "# f'{<string>:10s}' Left aligned string with 10 indetation.\n",
    "# f'{<int>:^10d}' Center aligned interger with 5 identation for each side.\n",
    "# f'{<float>:>9.4f}' Right aligned float with 4 decimal place with 10 indentation."
   ]
  },
  {
   "source": [
    "Tuple has two key benefits:\n",
    "- Its length will never change.\n",
    "- It uses less memory than a list of the same length."
   ],
   "cell_type": "markdown",
   "metadata": {}
  },
  {
   "source": [
    "Tuple contains references. And the references cannot be deleted or replaced. But if a reference point to a mutable object, then the value of the tuple can change."
   ],
   "cell_type": "markdown",
   "metadata": {}
  },
  {
   "cell_type": "code",
   "execution_count": 46,
   "metadata": {},
   "outputs": [
    {
     "output_type": "stream",
     "name": "stdout",
     "text": [
      "(10, 'alpha', [1, 2])\n(10, 'alpha', [1, 2, 99])\n"
     ]
    }
   ],
   "source": [
    "a = (10, 'alpha', [1, 2])\n",
    "print(a)\n",
    "a[-1].append(99)\n",
    "print(a)"
   ]
  },
  {
   "source": [
    "The mutable value of tuples can be a source of bugs. If you want to make sure a tuple will stay unchanged, you can compute its hash."
   ],
   "cell_type": "markdown",
   "metadata": {}
  },
  {
   "cell_type": "code",
   "execution_count": 48,
   "metadata": {},
   "outputs": [
    {
     "output_type": "execute_result",
     "data": {
      "text/plain": [
       "False"
      ]
     },
     "metadata": {},
     "execution_count": 48
    }
   ],
   "source": [
    "def fixed(obj):\n",
    "    try: \n",
    "        hash(obj)\n",
    "    except TypeError:\n",
    "        return False\n",
    "    return True\n",
    "    \n",
    "a = (10, 'alpha', [1, 2])\n",
    "fixed(a)"
   ]
  },
  {
   "source": [
    "Tuple offer some performance advantages explained by Python core developer Raymond Hettinger in a StackOverflow\n",
    "- To evaluate a tuple literal, the Python compiler generates bytescode for a tuple constant in one operation, but for a list literal, the generated bytecode pushes each element as a separate constant to the data stack, and then builds the list.\n",
    "- Tuple do not need to be copied. Given a hashable tuple t, the tuple(t) constructor returns a reference to the same t. While, list() constructor must create a new copy of it.\n",
    "- Because of its fixed length, a tuple instance is allocated the exact memory. List are allocated with room to spare.\n",
    "- The references to the items in a tuple are stored in an array within the tuple struct itself, while a list holds a pointer to an array of references stored elsewhere. The added indirection makses CPU caches less effective.\n",
    "\n",
    "https://stackoverflow.com/questions/68630/are-tuples-more-efficient-than-lists-in-python/22140115#22140115"
   ],
   "cell_type": "markdown",
   "metadata": {}
  },
  {
   "source": [
    "## Slicing"
   ],
   "cell_type": "markdown",
   "metadata": {}
  },
  {
   "source": [
    "method | list | tuple | description\n",
    "|---|:---:|---:|\n",
    "s.__add__(s2)       |o|o|   s + s2 concatenation\n",
    "s.__iadd__(s2)      |o| |   s += s2 in-place concatenation\n",
    "s.append(e)         |o| |   Append one element after last\n",
    "s.delete()          |o| |   Delete all items\n",
    "s.__contains__(e)   |o|o|   e in s\n",
    "s.copy()            |o| |   Shallow copy of the list\n",
    "s.count(e)          |o|o|   Count occurences of an element\n",
    "s.__delitem__(p)    |o| |   Remore item at position p\n",
    "s.extend(it)        |o| |   Append items from iterable it\n",
    "s.__getitem__(p)    |o|o|   s\\[p\\]-get item at position p\n",
    "s.__getnewargs__()  | |o|   Support for optimized serialization with pickle\n",
    "s.index(e)          |o|o|   Find position of first occurrence of e\n",
    "s.insert(p, e)      |o| |   Insert element e before the item at position p\n",
    "s.__iter__()        |o|o|   Get iterator\n",
    "s.__len__()         |o|o|   len(s) - number of items\n",
    "s.__mul__(n)        |o|o|   s * n - repeated concatenation\n",
    "s.__imul__(n)       |o| |   s *= n - in-place repeated concatenation\n",
    "s.__rmul__(n)       |o|o|   n * s - reversed repeated concatenation\n",
    "s.pop(p)            |o| |   Remove and return last item or item at optional position p\n",
    "s.remove(e)         |o| |   Remove first occurrence of element e by value\n",
    "s.reverse()         |o| |   Reverse the order of the items in place\n",
    "s.__reversed__()    |o| |   Get iterator to scan items from last to first\n",
    "s.__setitem__(p, e) |o| |   s\\[p\\] = e - put e in position p, over writing existing item\n",
    "s.sort(\\[key\\], \\[reverse\\])    |o| |   Sort items in place with optional keyword arguments key and reverse"
   ],
   "cell_type": "markdown",
   "metadata": {}
  },
  {
   "source": [
    "## Using + and * with Sequences"
   ],
   "cell_type": "markdown",
   "metadata": {}
  },
  {
   "cell_type": "code",
   "execution_count": null,
   "metadata": {},
   "outputs": [],
   "source": []
  }
 ]
}